{
  "nbformat": 4,
  "nbformat_minor": 0,
  "metadata": {
    "colab": {
      "provenance": []
    },
    "kernelspec": {
      "name": "python3",
      "display_name": "Python 3"
    },
    "language_info": {
      "name": "python"
    }
  },
  "cells": [
    {
      "cell_type": "markdown",
      "source": [
        "# Simualating random walks for NSE stocks"
      ],
      "metadata": {
        "id": "W-FvF59BYoig"
      }
    },
    {
      "cell_type": "code",
      "execution_count": 1,
      "metadata": {
        "id": "QGnScgRHX6Ng"
      },
      "outputs": [],
      "source": [
        "import yfinance as yf\n",
        "import pandas as pd\n",
        "import numpy as np\n",
        "\n",
        "small_caps = [\n",
        "    \"ACMESOLAR.NS\", \"AADHARHFC.NS\", \"AARTIIND.NS\", \"AAVAS.NS\", \"ACE.NS\", \"ABREL.NS\", \"ABSLAMC.NS\", \"AEGISLOG.NS\", \"AFCONS.NS\", \"AFFLE.NS\",\n",
        "    \"AKUMS.NS\", \"APLLTD.NS\", \"ALIVUS.NS\", \"ALKYLAMINE.NS\", \"ALOKINDS.NS\", \"ARE&M.NS\", \"AMBER.NS\", \"ANANDRATHI.NS\", \"ANANTRAJ.NS\", \"ANGELONE.NS\",\n",
        "    \"APTUS.NS\", \"ASAHIINDIA.NS\", \"ASTERDM.NS\", \"ASTRAZEN.NS\", \"ATUL.NS\", \"AIIL.NS\", \"BASF.NS\", \"BEML.NS\", \"BLS.NS\", \"BALRAMCHIN.NS\",\n",
        "    \"BATAINDIA.NS\", \"BAYERCROP.NS\", \"BIKAJI.NS\", \"BSOFT.NS\", \"BLUEDART.NS\", \"BBTC.NS\", \"FIRSTCRY.NS\", \"BRIGADE.NS\", \"MAPMYINDIA.NS\", \"CCL.NS\",\n",
        "    \"CESC.NS\", \"CAMPUS.NS\", \"CANFINHOME.NS\", \"CAPLIPOINT.NS\", \"CGCL.NS\", \"CARBORUNIV.NS\", \"CASTROLIND.NS\", \"CEATLTD.NS\", \"CENTRALBK.NS\", \"CDSL.NS\",\n",
        "    \"CENTURYPLY.NS\", \"CERA.NS\", \"CHALET.NS\", \"CHAMBLFERT.NS\", \"CHENNPETRO.NS\", \"CHOLAHLDNG.NS\", \"CUB.NS\", \"CLEAN.NS\", \"COHANCE.NS\", \"CAMS.NS\",\n",
        "    \"CONCORDBIO.NS\", \"CRAFTSMAN.NS\", \"CREDITACC.NS\", \"CROMPTON.NS\", \"CYIENT.NS\", \"DCMSHRIRAM.NS\", \"DOMS.NS\", \"DATAPATTNS.NS\", \"DEEPAKFERT.NS\", \"DELHIVERY.NS\",\n",
        "    \"DEVYANI.NS\", \"LALPATHLAB.NS\", \"DUMMYDBRLT.NS\", \"EIDPARRY.NS\", \"EIHOTEL.NS\", \"ELECON.NS\", \"ELGIEQUIP.NS\", \"EMCURE.NS\", \"ENGINERSIN.NS\", \"ERIS.NS\",\n",
        "    \"FACT.NS\", \"FINCABLES.NS\", \"FINPIPE.NS\", \"FSL.NS\", \"FIVESTAR.NS\", \"GRSE.NS\", \"GILLETTE.NS\", \"GODIGIT.NS\", \"GPIL.NS\", \"GODFRYPHLP.NS\",\n",
        "    \"GODREJAGRO.NS\", \"GRANULES.NS\", \"GRAPHITE.NS\", \"GRAVITA.NS\", \"GESHIP.NS\", \"GMDCLTD.NS\", \"GNFC.NS\", \"GPPL.NS\", \"GSPL.NS\", \"HEG.NS\",\n",
        "    \"HBLENGINE.NS\", \"HFCL.NS\", \"HAPPSTMNDS.NS\", \"HSCL.NS\", \"HINDCOPPER.NS\", \"HOMEFIRST.NS\", \"HONASA.NS\", \"IDBI.NS\", \"IFCI.NS\", \"IIFL.NS\"\n",
        "]\n",
        "\n",
        "# Remove any accidental empty/invalid entries\n",
        "small_caps = [t.strip() for t in small_caps if t and t != '.']\n",
        "small_caps = small_caps[:50]"
      ]
    },
    {
      "cell_type": "markdown",
      "source": [
        "Fetching historical data for given stocks and calculating returns and volatility"
      ],
      "metadata": {
        "id": "JwyTNggdY2El"
      }
    },
    {
      "cell_type": "code",
      "source": [
        "data = {}\n",
        "valid_tickers = []\n",
        "\n",
        "for ticker in small_caps:\n",
        "    try:\n",
        "        print(f\"Fetching {ticker}...\")\n",
        "        stock = yf.Ticker(ticker)\n",
        "        hist = stock.history(period='1y', interval='1d')['Close']\n",
        "        if hist.empty:\n",
        "            print(f\"  âš ï¸  No price data for {ticker}\")\n",
        "            continue\n",
        "        data[ticker] = hist\n",
        "        valid_tickers.append(ticker)\n",
        "    except Exception as e:\n",
        "        print(f\"  âŒ Error for {ticker}: {e}\")\n",
        "        continue\n",
        "\n",
        "# Create DataFrame\n",
        "df = pd.DataFrame(data)\n",
        "print(f\"\\nâœ… Successfully loaded {len(valid_tickers)} out of {len(small_caps)} tickers.\")\n",
        "\n",
        "#calculate log annualized returns\n",
        "\n",
        "log_returns = np.log(df / df.shift(1)).dropna()\n",
        "\n",
        "#calculate annualized mean and volatality\n",
        "\n",
        "mu = log_returns.mean() * 252\n",
        "sigma = log_returns.std() * np.sqrt(252)"
      ],
      "metadata": {
        "colab": {
          "base_uri": "https://localhost:8080/"
        },
        "id": "l-1hMM1HY1fp",
        "outputId": "88f03bc1-2c3e-4775-d32c-2d2a5c793df0"
      },
      "execution_count": 2,
      "outputs": [
        {
          "output_type": "stream",
          "name": "stdout",
          "text": [
            "Fetching ACMESOLAR.NS...\n",
            "Fetching AADHARHFC.NS...\n",
            "Fetching AARTIIND.NS...\n",
            "Fetching AAVAS.NS...\n",
            "Fetching ACE.NS...\n",
            "Fetching ABREL.NS...\n",
            "Fetching ABSLAMC.NS...\n",
            "Fetching AEGISLOG.NS...\n",
            "Fetching AFCONS.NS...\n",
            "Fetching AFFLE.NS...\n",
            "Fetching AKUMS.NS...\n",
            "Fetching APLLTD.NS...\n",
            "Fetching ALIVUS.NS...\n",
            "Fetching ALKYLAMINE.NS...\n",
            "Fetching ALOKINDS.NS...\n",
            "Fetching ARE&M.NS...\n",
            "Fetching AMBER.NS...\n",
            "Fetching ANANDRATHI.NS...\n",
            "Fetching ANANTRAJ.NS...\n",
            "Fetching ANGELONE.NS...\n",
            "Fetching APTUS.NS...\n",
            "Fetching ASAHIINDIA.NS...\n",
            "Fetching ASTERDM.NS...\n",
            "Fetching ASTRAZEN.NS...\n",
            "Fetching ATUL.NS...\n",
            "Fetching AIIL.NS...\n",
            "Fetching BASF.NS...\n",
            "Fetching BEML.NS...\n",
            "Fetching BLS.NS...\n",
            "Fetching BALRAMCHIN.NS...\n",
            "Fetching BATAINDIA.NS...\n",
            "Fetching BAYERCROP.NS...\n",
            "Fetching BIKAJI.NS...\n",
            "Fetching BSOFT.NS...\n",
            "Fetching BLUEDART.NS...\n",
            "Fetching BBTC.NS...\n",
            "Fetching FIRSTCRY.NS...\n",
            "Fetching BRIGADE.NS...\n",
            "Fetching MAPMYINDIA.NS...\n",
            "Fetching CCL.NS...\n",
            "Fetching CESC.NS...\n",
            "Fetching CAMPUS.NS...\n",
            "Fetching CANFINHOME.NS...\n",
            "Fetching CAPLIPOINT.NS...\n",
            "Fetching CGCL.NS...\n",
            "Fetching CARBORUNIV.NS...\n",
            "Fetching CASTROLIND.NS...\n",
            "Fetching CEATLTD.NS...\n",
            "Fetching CENTRALBK.NS...\n",
            "Fetching CDSL.NS...\n",
            "\n",
            "âœ… Successfully loaded 50 out of 50 tickers.\n"
          ]
        }
      ]
    },
    {
      "cell_type": "code",
      "source": [
        "Using Geometric Brownian Motion for simulating random paths"
      ],
      "metadata": {
        "colab": {
          "base_uri": "https://localhost:8080/",
          "height": 106
        },
        "id": "saoboogjZEZq",
        "outputId": "f5d477da-1828-4d51-bd5e-0de30cecad4d"
      },
      "execution_count": 3,
      "outputs": [
        {
          "output_type": "error",
          "ename": "SyntaxError",
          "evalue": "invalid syntax (ipython-input-859377782.py, line 1)",
          "traceback": [
            "\u001b[0;36m  File \u001b[0;32m\"/tmp/ipython-input-859377782.py\"\u001b[0;36m, line \u001b[0;32m1\u001b[0m\n\u001b[0;31m    Using Geometric Brownian Motion for simulating random paths\u001b[0m\n\u001b[0m          ^\u001b[0m\n\u001b[0;31mSyntaxError\u001b[0m\u001b[0;31m:\u001b[0m invalid syntax\n"
          ]
        }
      ]
    },
    {
      "cell_type": "code",
      "source": [
        "T = 1.0 # 1 year\n",
        "N = 252 # no. of trading days\n",
        "dt = T / N #time step\n",
        "n_sims = 100 # no. of simulations per stock\n",
        "circuit_limit = 0.10 #doesnt allows the stock to go above 10%\n",
        "\n",
        "#simulating random walks for eacg stock\n",
        "\n",
        "price_path = {}\n",
        "circuit_hits = {ticker: 0 for ticker in small_caps}\n",
        "\n",
        "\n",
        "for ticker in small_caps:\n",
        "   S0 = df[ticker].iloc[-1] #get latest closing price\n",
        "   mu_t = mu[ticker] #annualized mean\n",
        "   sigma_t = sigma[ticker] # annualized volatality\n",
        "   paths = np.zeros((n_sims, N + 1))\n",
        "   paths[:, 0] = S0 # Initialize all simulations with the starting price\n",
        "\n",
        "   for i in range(1, N + 1):\n",
        "    #generate random increment using GBM\n",
        "    dW = np.random.normal(0, np.sqrt(dt), n_sims)\n",
        "    # Calculate the price change based on GBM\n",
        "    dS = mu_t * dt + sigma_t * np.sqrt(dt) * dW\n",
        "    paths[:, i] = paths[:, i-1] + paths[:, i-1] * dS # Update prices for all simulations\n",
        "\n",
        "    #apply circuit breakers using vectorization ( np.where())\n",
        "    returns = (paths[:, i] - paths[:, i-1]) / paths[:, i-1]\n",
        "    upper_cap = paths[:, i-1] * (1 + circuit_limit)\n",
        "    lower_cap = paths[:, i-1] * (1 - circuit_limit)\n",
        "    paths[:, i] = np.where(returns > circuit_limit, upper_cap,\n",
        "    np.where(returns < -circuit_limit, lower_cap, paths[:, i]))\n",
        "    circuit_hits[ticker] += np.sum((returns > circuit_limit) | (returns < -circuit_limit))\n",
        "\n",
        "   price_path[ticker] = paths # Store the simulated paths for the ticker"
      ],
      "metadata": {
        "id": "Yd-kwCmWY_BL"
      },
      "execution_count": 4,
      "outputs": []
    },
    {
      "cell_type": "markdown",
      "source": [
        "Visualization of random walks"
      ],
      "metadata": {
        "id": "-qiNbkxJZJlR"
      }
    },
    {
      "cell_type": "code",
      "source": [
        "import matplotlib.pyplot as plt\n",
        "import math\n",
        "\n",
        "# Determine grid size (e.g., 10 rows x 5 cols for 50 tickers)\n",
        "n_tickers = len(small_caps)\n",
        "cols = 5\n",
        "rows = math.ceil(n_tickers / cols)\n",
        "\n",
        "plt.figure(figsize=(20, 4 * rows))  # Adjust height based on number of rows\n",
        "\n",
        "for idx, ticker in enumerate(small_caps):\n",
        "    if ticker not in price_path:\n",
        "        continue\n",
        "    plt.subplot(rows, cols, idx + 1)\n",
        "    paths = price_path[ticker]\n",
        "    for i in range(n_sims):\n",
        "        plt.plot(paths[:, i], alpha=0.3, linewidth=0.8)\n",
        "    plt.title(f'{ticker}', fontsize=9)\n",
        "    plt.xlabel('Days', fontsize=8)\n",
        "    plt.ylabel('Price (INR)', fontsize=8)\n",
        "    plt.xticks(fontsize=7)\n",
        "    plt.yticks(fontsize=7)\n",
        "\n",
        "plt.tight_layout()\n",
        "plt.show()"
      ],
      "metadata": {
        "id": "gI6l0PeKY-Us"
      },
      "execution_count": null,
      "outputs": []
    }
  ]
}
